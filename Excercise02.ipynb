{
 "cells": [
  {
   "cell_type": "markdown",
   "metadata": {},
   "source": [
    "# Laboratorio 02 - Ejercicio 2\n",
    "### Uso del método de Euler\n",
    "\n",
    "Integrantes:\n",
    "- Ricardo Méndez, 21289\n",
    "- Sara Echeverría, 21371\n",
    "- Melissa Pérez, 21385"
   ]
  },
  {
   "cell_type": "markdown",
   "metadata": {},
   "source": [
    "### 2.1. Crecimiento poblacional\n",
    "Con el modelo: **dy/dx = k ( 1 - y/N ) y**\n",
    "\n",
    "Después de 4 días, una población inicial de mariposas de 15 crece a 56. Si el ecosistema restringido alberga 300 mariposas, ¿cuántas mariposas habrá en 12 días?"
   ]
  },
  {
   "cell_type": "code",
   "execution_count": 1,
   "metadata": {},
   "outputs": [],
   "source": [
    "# Librerias\n",
    "import numpy as np\n",
    "import matplotlib.pyplot as plt\n",
    "from scipy.optimize import fsolve"
   ]
  },
  {
   "cell_type": "code",
   "execution_count": 2,
   "metadata": {},
   "outputs": [],
   "source": [
    "# Calculo de la constante k\n",
    "N = 300\n",
    "y0 = 15\n",
    "y4 = 56\n",
    "ti = 0\n",
    "tf = 4\n",
    "\n",
    "def equation(k):\n",
    "    t = tf\n",
    "    C = N / y0 - 1\n",
    "    return y4 - N / (1 + C * np.exp(-k * t))\n",
    "\n",
    "k_initial_guess = 0.1\n",
    "k_value = fsolve(equation, k_initial_guess)[0]"
   ]
  },
  {
   "cell_type": "code",
   "execution_count": 3,
   "metadata": {},
   "outputs": [
    {
     "data": {
      "text/plain": [
       "0.36815561115209694"
      ]
     },
     "execution_count": 3,
     "metadata": {},
     "output_type": "execute_result"
    }
   ],
   "source": [
    "k_value"
   ]
  },
  {
   "cell_type": "code",
   "execution_count": 4,
   "metadata": {},
   "outputs": [],
   "source": [
    "# Aplicación de la ecuación diferencial\n",
    "ti = 0\n",
    "tf = 12\n",
    "h = 0.1\n",
    "\n",
    "def dydt(t, y):\n",
    "    return k_value * y * (1 - y / N)\n",
    "\n",
    "t_values = np.arange(ti, tf + h, h)\n",
    "y_values = np.zeros(len(t_values))\n",
    "y_values[0] = y0\n",
    "\n",
    "for i in range(1, len(t_values)):\n",
    "    y_values[i] = y_values[i-1] + h * dydt(t_values[i-1], y_values[i-1])\n",
    "\n",
    "y_after_12_days = y_values[-1]"
   ]
  },
  {
   "cell_type": "code",
   "execution_count": 5,
   "metadata": {},
   "outputs": [
    {
     "data": {
      "text/plain": [
       "243.08211095612606"
      ]
     },
     "execution_count": 5,
     "metadata": {},
     "output_type": "execute_result"
    }
   ],
   "source": [
    "y_after_12_days"
   ]
  },
  {
   "cell_type": "markdown",
   "metadata": {},
   "source": [
    "Suponiendo que la población de mariposas crece más rápido cuando hay 150 mariposas, ¿cuándo sucede esto?"
   ]
  },
  {
   "cell_type": "code",
   "execution_count": null,
   "metadata": {},
   "outputs": [],
   "source": []
  },
  {
   "cell_type": "markdown",
   "metadata": {},
   "source": [
    "### 2.2. Crecimiento Epidemiológico\n",
    "En un pueblo aislado se propaga una enfermedad según el modelo SIR. Inicialmente hay 990 individuos susceptibles (_S_), 10 individuos infectados (_I_) y 0 individuos recuperados (_R_). La tasa de infección (_𝛽_) es 0.3 y la tasa de recuperación (_𝛾_) es 0.1\n",
    "\n",
    "Utilizando el método de Euler, estime el número de individuos susceptibles, infectados y recuperados durante un período de 50 días. Utilice un tamaño de paso (_Δt_) de 0.1 días."
   ]
  },
  {
   "cell_type": "code",
   "execution_count": null,
   "metadata": {},
   "outputs": [],
   "source": []
  }
 ],
 "metadata": {
  "kernelspec": {
   "display_name": "Python 3",
   "language": "python",
   "name": "python3"
  },
  "language_info": {
   "codemirror_mode": {
    "name": "ipython",
    "version": 3
   },
   "file_extension": ".py",
   "mimetype": "text/x-python",
   "name": "python",
   "nbconvert_exporter": "python",
   "pygments_lexer": "ipython3",
   "version": "3.11.8"
  }
 },
 "nbformat": 4,
 "nbformat_minor": 2
}
