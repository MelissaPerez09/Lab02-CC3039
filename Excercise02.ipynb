{
 "cells": [
  {
   "cell_type": "markdown",
   "metadata": {},
   "source": [
    "# Laboratorio 02 - Ejercicio 2\n",
    "### Uso del método de Euler\n",
    "\n",
    "Integrantes:\n",
    "- Ricardo Méndez, 21289\n",
    "- Sara Echeverría, 21371\n",
    "- Melissa Pérez, 21385"
   ]
  },
  {
   "cell_type": "markdown",
   "metadata": {},
   "source": [
    "### 2.1. Crecimiento poblacional\n",
    "Con el modelo: **dy/dx = k ( 1 - y/N ) y**\n",
    "\n",
    "Después de 4 días, una población inicial de mariposas de 15 crece a 56. Si el ecosistema restringido alberga 300 mariposas, ¿cuántas mariposas habrá en 12 días?"
   ]
  },
  {
   "cell_type": "code",
   "execution_count": null,
   "metadata": {},
   "outputs": [],
   "source": []
  },
  {
   "cell_type": "markdown",
   "metadata": {},
   "source": [
    "Suponiendo que la población de mariposas crece más rápido cuando hay 150 mariposas, ¿cuándo sucede esto?"
   ]
  },
  {
   "cell_type": "code",
   "execution_count": null,
   "metadata": {},
   "outputs": [],
   "source": []
  },
  {
   "cell_type": "markdown",
   "metadata": {},
   "source": [
    "### 2.2. Crecimiento Epidemiológico\n",
    "En un pueblo aislado se propaga una enfermedad según el modelo SIR. Inicialmente hay 990 individuos susceptibles (_S_), 10 individuos infectados (_I_) y 0 individuos recuperados (_R_). La tasa de infección (_𝛽_) es 0.3 y la tasa de recuperación (_𝛾_) es 0.1\n",
    "\n",
    "Utilizando el método de Euler, estime el número de individuos susceptibles, infectados y recuperados durante un período de 50 días. Utilice un tamaño de paso (_Δt_) de 0.1 días."
   ]
  },
  {
   "cell_type": "code",
   "execution_count": null,
   "metadata": {},
   "outputs": [],
   "source": []
  }
 ],
 "metadata": {
  "language_info": {
   "name": "python"
  }
 },
 "nbformat": 4,
 "nbformat_minor": 2
}
